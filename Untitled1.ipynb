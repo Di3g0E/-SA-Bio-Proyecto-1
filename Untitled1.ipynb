{
  "nbformat": 4,
  "nbformat_minor": 0,
  "metadata": {
    "colab": {
      "provenance": [],
      "authorship_tag": "ABX9TyOaMcHknamnij1bbz3S2wSb",
      "include_colab_link": true
    },
    "kernelspec": {
      "name": "python3",
      "display_name": "Python 3"
    },
    "language_info": {
      "name": "python"
    }
  },
  "cells": [
    {
      "cell_type": "markdown",
      "metadata": {
        "id": "view-in-github",
        "colab_type": "text"
      },
      "source": [
        "<a href=\"https://colab.research.google.com/github/Di3g0E/-SA-Bio-Proyecto-1/blob/main/Untitled1.ipynb\" target=\"_parent\"><img src=\"https://colab.research.google.com/assets/colab-badge.svg\" alt=\"Open In Colab\"/></a>"
      ]
    },
    {
      "cell_type": "code",
      "execution_count": null,
      "metadata": {
        "id": "m6BVP3Nt4NWV"
      },
      "outputs": [],
      "source": [
        "import numpy as np\n",
        "import pandas as pd\n",
        "from sklearn.datasets import fetch_openml\n",
        "\n",
        "# Cargar el conjunto de datos MNIST desde sklearn.datasets\n",
        "mnist = fetch_openml('mnist_784', version=1)\n",
        "x, y = mnist['data'], mnist['target']\n",
        "\n",
        "# Convertir las etiquetas a enteros\n",
        "y = y.astype(int)\n",
        "\n",
        "# Crear DataFrame con los datos completos\n",
        "mnist_df = pd.DataFrame(data=x, columns=[f\"Pixel_{i}\" for i in range(x.shape[1])])\n",
        "mnist_df['Label'] = y  # Agregar columna de etiquetas\n",
        "\n",
        "# Seleccionar aleatoriamente 200 datos\n",
        "sample_df = mnist_df.sample(n=200, random_state=42)\n",
        "\n",
        "# Seleccionar dos columnas para realizar el producto cartesiano\n",
        "selected_columns = ['Pixel_100', 'Pixel_200']\n",
        "\n",
        "# Calcular el producto cartesiano entre las dos columnas seleccionadas\n",
        "cartesian_product = [(a, b, a*b) for a in sample_df[selected_columns[0]] for b in sample_df[selected_columns[1]]]\n",
        "\n",
        "# Crear un nuevo DataFrame con los resultados del producto cartesiano\n",
        "cartesian_df = pd.DataFrame(cartesian_product, columns=selected_columns + ['Product'])\n",
        "\n",
        "# Verificar si el producto está en alguna de las dos columnas originales y crear la columna 'Match'\n",
        "cartesian_df['Match'] = cartesian_df['Product'].isin(sample_df[selected_columns[0]]) | cartesian_df['Product'].isin(sample_df[selected_columns[1]])\n",
        "\n",
        "print(\"DataFrame con el producto cartesiano y la columna 'Match':\")\n",
        "print(cartesian_df)"
      ]
    }
  ]
}
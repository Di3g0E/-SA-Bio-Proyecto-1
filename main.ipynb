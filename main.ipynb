{
 "cells": [
  {
   "cell_type": "code",
   "execution_count": 3,
   "metadata": {},
   "outputs": [],
   "source": [
    "# Librerías:\n",
    "import numpy as np\n",
    "import pandas as pd\n",
    "from sklearn.datasets import fetch_openml"
   ]
  },
  {
   "cell_type": "code",
   "execution_count": 4,
   "metadata": {},
   "outputs": [],
   "source": [
    "# Cargar el conjunto de datos MNIST desde sklearn.datasets\n",
    "mnist = fetch_openml('mnist_784', version=1)\n",
    "x, y = mnist['data'], mnist['target']\n",
    "\n",
    "df_x = pd.DataFrame(x)\n",
    "df_y = pd.DataFrame(y)"
   ]
  },
  {
   "cell_type": "code",
   "execution_count": 5,
   "metadata": {},
   "outputs": [],
   "source": [
    "# Definir una función para convertir una fila en una lista de columnas y aplicarla:\n",
    "def row_to_columns(row):\n",
    "    return [row[i:i+28] for i in range(0, len(row), 28)]\n",
    "\n",
    "df_x_columns = df_x.apply(row_to_columns, axis=1)"
   ]
  },
  {
   "cell_type": "code",
   "execution_count": 6,
   "metadata": {},
   "outputs": [
    {
     "name": "stdout",
     "output_type": "stream",
     "text": [
      "                                                   0  \\\n",
      "0  [[0.0, 0.0, 0.0, 0.0, 0.0, 0.0, 0.0, 0.0, 0.0,...   \n",
      "1  [[0.0, 0.0, 0.0, 0.0, 0.0, 0.0, 0.0, 0.0, 0.0,...   \n",
      "2  [[0.0, 0.0, 0.0, 0.0, 0.0, 0.0, 0.0, 0.0, 0.0,...   \n",
      "3  [[0.0, 0.0, 0.0, 0.0, 0.0, 0.0, 0.0, 0.0, 0.0,...   \n",
      "4  [[0.0, 0.0, 0.0, 0.0, 0.0, 0.0, 0.0, 0.0, 0.0,...   \n",
      "\n",
      "                                                   1 target_1 target_2  \\\n",
      "0  [[0.0, 0.0, 0.0, 0.0, 0.0, 0.0, 0.0, 0.0, 0.0,...        5        1   \n",
      "1  [[0.0, 0.0, 0.0, 0.0, 0.0, 0.0, 0.0, 0.0, 0.0,...        0        1   \n",
      "2  [[0.0, 0.0, 0.0, 0.0, 0.0, 0.0, 0.0, 0.0, 0.0,...        4        9   \n",
      "3  [[0.0, 0.0, 0.0, 0.0, 0.0, 0.0, 0.0, 0.0, 0.0,...        1        4   \n",
      "4  [[0.0, 0.0, 0.0, 0.0, 0.0, 0.0, 0.0, 0.0, 0.0,...        9        9   \n",
      "\n",
      "   igualdad  \n",
      "0         0  \n",
      "1         0  \n",
      "2         0  \n",
      "3         0  \n",
      "4         1  \n"
     ]
    }
   ],
   "source": [
    "# Obtener la mitad de las filas:\n",
    "mitad_filas = len(df_x_columns) // 2\n",
    "\n",
    "# Dividir el DataFrame a la mitad:\n",
    "df_x_columns_1 = df_x_columns.iloc[:mitad_filas]\n",
    "df_x_columns_2 = df_x_columns.iloc[mitad_filas:]\n",
    "\n",
    "df_y_1 = df_y.iloc[:mitad_filas]\n",
    "df_y_2 = df_y.iloc[mitad_filas:]\n",
    "\n",
    "df_y_1.columns = ['target_1']\n",
    "df_y_2.columns = ['target_2']\n",
    "\n",
    "# Juntar los cuatro atributos en un solo data frame:\n",
    "merged_df = pd.concat([df_x_columns_1.reset_index(drop=True),\n",
    "                       df_x_columns_2.reset_index(drop=True),\n",
    "                       df_y_1.reset_index(drop=True),\n",
    "                       df_y_2.reset_index(drop=True)], axis=1)\n",
    "\n",
    "# Agregar una nueva columna [0,1] que indique si se repiten o no los datos:\n",
    "merged_df['igualdad'] = merged_df.apply(lambda row: 1 if row['target_1'] == row['target_2'] else 0, axis=1)\n",
    "\n",
    "# Mostrar el DataFrame:\n",
    "print(merged_df.head())"
   ]
  }
 ],
 "metadata": {
  "kernelspec": {
   "display_name": "sabio",
   "language": "python",
   "name": "python3"
  },
  "language_info": {
   "codemirror_mode": {
    "name": "ipython",
    "version": 3
   },
   "file_extension": ".py",
   "mimetype": "text/x-python",
   "name": "python",
   "nbconvert_exporter": "python",
   "pygments_lexer": "ipython3",
   "version": "3.10.13"
  }
 },
 "nbformat": 4,
 "nbformat_minor": 2
}
